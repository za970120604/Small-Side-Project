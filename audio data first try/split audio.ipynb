{
 "cells": [
  {
   "cell_type": "code",
   "execution_count": 4,
   "metadata": {},
   "outputs": [],
   "source": [
    "from pydub import AudioSegment\n",
    "import os\n",
    "def split_wav_file(input_file_path, output_folder_path, chunk_length_ms):\n",
    "    \"\"\"\n",
    "    Splits a WAV file into smaller chunks and saves them to the output folder.\n",
    "    \n",
    "    :param input_file_path: the path to the input WAV file.\n",
    "    :param output_folder_path: the path to the output folder where the chunks will be saved.\n",
    "    :param chunk_length_ms: the length of each chunk in milliseconds.\n",
    "    \"\"\"\n",
    "    # Load the input WAV file\n",
    "    sound = AudioSegment.from_wav(input_file_path)\n",
    "    \n",
    "    # Calculate the number of chunks\n",
    "    duration_ms = len(sound)\n",
    "    num_chunks = duration_ms // chunk_length_ms\n",
    "    \n",
    "    # Create the output folder if it doesn't exist\n",
    "    if not os.path.exists(output_folder_path):\n",
    "        os.makedirs(output_folder_path)\n",
    "    \n",
    "    # Split the WAV file into chunks and save them to the output folder\n",
    "    for i in range(num_chunks):\n",
    "        start_time_ms = i * chunk_length_ms\n",
    "        end_time_ms = (i + 1) * chunk_length_ms\n",
    "        chunk = sound[start_time_ms:end_time_ms]\n",
    "        chunk.export(os.path.join(output_folder_path, f\"chunk_{i+1}.wav\"), format=\"wav\")"
   ]
  },
  {
   "cell_type": "code",
   "execution_count": 10,
   "metadata": {},
   "outputs": [],
   "source": [
    "input_file_path = 'D:/sound/EDM.wav'\n",
    "output_folder_path = \"D:/sound/subAudio/EDM\"\n",
    "chunk_length_ms = 30000  # split the file into 5-second chunks\n",
    "\n",
    "split_wav_file(input_file_path, output_folder_path, chunk_length_ms)"
   ]
  },
  {
   "cell_type": "code",
   "execution_count": null,
   "metadata": {},
   "outputs": [],
   "source": []
  }
 ],
 "metadata": {
  "kernelspec": {
   "display_name": "Python 3",
   "language": "python",
   "name": "python3"
  },
  "language_info": {
   "codemirror_mode": {
    "name": "ipython",
    "version": 3
   },
   "file_extension": ".py",
   "mimetype": "text/x-python",
   "name": "python",
   "nbconvert_exporter": "python",
   "pygments_lexer": "ipython3",
   "version": "3.7.0"
  },
  "orig_nbformat": 4
 },
 "nbformat": 4,
 "nbformat_minor": 2
}
